{
 "cells": [
  {
   "cell_type": "markdown",
   "metadata": {
    "id": "oef8c2jr-PZY"
   },
   "source": [
    "作業目標<br>\n",
    "計算有缺失值的資料，統計量實作<br>\n",
    "作業重點<br>\n",
    "當遇到缺失值有函式可以處理，不須額外寫程式刪除<br>\n",
    "計算統計量時不能出現缺失值"
   ]
  },
  {
   "cell_type": "markdown",
   "metadata": {
    "id": "4YgL8NF4-Ru3"
   },
   "source": [
    "題目:<br>\n",
    "english_score = np.array([55,89,76,65,48,70])<br>\n",
    "math_score = np.array([60,85,60,68,np.nan,60])<br>\n",
    "chinese_score = np.array([65,90,82,72,66,77])<br>\n",
    "上3列共六位同學的英文、數學、國文成績，第一個元素代表第一位同學，舉例第一位同學英文55分、數學60分、國文65分，今天第五位同學因某原因沒來考試，導致數學成績缺值，運用上列數據回答下列問題。<br>\n",
    "1. 請計算各科成績平均、最大值、最小值、標準差，其中數學缺一筆資料可忽略?\n",
    "2. 第五位同學補考數學後成績為55，請計算補考後數學成績平均、最大值、最小值、標準差?\n",
    "3. 用補考後資料找出與國文成績相關係數最高的學科?"
   ]
  },
  {
   "cell_type": "code",
   "execution_count": 84,
   "metadata": {
    "executionInfo": {
     "elapsed": 617,
     "status": "ok",
     "timestamp": 1609854566856,
     "user": {
      "displayName": "献竤黃",
      "photoUrl": "",
      "userId": "07529243043474362942"
     },
     "user_tz": -480
    },
    "id": "QwsKU8qO-RK7"
   },
   "outputs": [],
   "source": [
    "import numpy as np"
   ]
  },
  {
   "cell_type": "code",
   "execution_count": 93,
   "metadata": {
    "executionInfo": {
     "elapsed": 1016,
     "status": "ok",
     "timestamp": 1609854567261,
     "user": {
      "displayName": "献竤黃",
      "photoUrl": "",
      "userId": "07529243043474362942"
     },
     "user_tz": -480
    },
    "id": "B5BqDQAe_czh"
   },
   "outputs": [],
   "source": [
    "english_score = np.array([55,89,76,65,48,70])\n",
    "math_score = np.array([60,85,60,68,np.nan,60])\n",
    "chinese_score = np.array([65,90,82,72,66,77])"
   ]
  },
  {
   "cell_type": "code",
   "execution_count": 100,
   "metadata": {},
   "outputs": [
    {
     "name": "stdout",
     "output_type": "stream",
     "text": [
      "66.6\n"
     ]
    }
   ],
   "source": [
    "Math_mean = 0\n",
    "count = 0\n",
    "for score in math_score:\n",
    "    if np.isnan(score) != True :\n",
    "        Math_mean = Math_mean + score\n",
    "        count = count + 1\n",
    "Math_mean = Math_mean/count        \n",
    "print(Math_mean)"
   ]
  },
  {
   "cell_type": "code",
   "execution_count": 103,
   "metadata": {
    "executionInfo": {
     "elapsed": 1005,
     "status": "ok",
     "timestamp": 1609854567262,
     "user": {
      "displayName": "献竤黃",
      "photoUrl": "",
      "userId": "07529243043474362942"
     },
     "user_tz": -480
    },
    "id": "K3tUA6u9aI3N"
   },
   "outputs": [
    {
     "name": "stdout",
     "output_type": "stream",
     "text": [
      "Subject:  ['English' 'Math' 'Chinese']\n",
      "Mean:  [67.166664 66.6      75.333336]\n",
      "Max:  [89. 85. 90.]\n",
      "Min:  [48. 60. 65.]\n",
      "Standard Deviation:  [13.433995  9.707729  8.825468]\n"
     ]
    }
   ],
   "source": [
    "#1. 請計算各科成績平均、最大值、最小值、標準差，其中數學缺一筆資料可忽略?\n",
    "dt = np.dtype({'names':('Subject','Mean', 'Max', 'Min', 'Standard Deviation'), \n",
    "               'formats':('U10', np.float32, np.float32, np.float32, np.float32)})\n",
    "Ans = np.zeros(3, dtype = dt)\n",
    "subject = np.array([\"English\", \"Math\", \"Chinese\"])\n",
    "   \n",
    "    \n",
    "mean = np.array([np.mean(english_score), np.nanmean(math_score), np.mean(chinese_score)])\n",
    "max = np.array([np.max(english_score), np.nanmax(math_score), np.max(chinese_score)])\n",
    "min = np.array([np.min(english_score), np.nanmin(math_score), np.min(chinese_score)])\n",
    "std = np.array([np.std(english_score), np.nanstd(math_score), np.std(chinese_score)])\n",
    "Ans['Subject'] = subject\n",
    "Ans['Mean'] = mean\n",
    "Ans['Max'] = max\n",
    "Ans['Min'] = min\n",
    "Ans['Standard Deviation'] = std\n",
    "\n",
    "print(\"Subject: \", Ans['Subject'])\n",
    "print(\"Mean: \", Ans['Mean'])\n",
    "print(\"Max: \", Ans['Max'])\n",
    "print(\"Min: \", Ans['Min'])\n",
    "print(\"Standard Deviation: \", Ans['Standard Deviation'])"
   ]
  },
  {
   "cell_type": "code",
   "execution_count": 104,
   "metadata": {
    "executionInfo": {
     "elapsed": 996,
     "status": "ok",
     "timestamp": 1609854567262,
     "user": {
      "displayName": "献竤黃",
      "photoUrl": "",
      "userId": "07529243043474362942"
     },
     "user_tz": -480
    },
    "id": "mXjDzvSrbLlf"
   },
   "outputs": [
    {
     "name": "stdout",
     "output_type": "stream",
     "text": [
      "Subject:  Math\n",
      "Mean:  64.66666666666667\n",
      "Max:  85.0\n",
      "Min:  55.0\n",
      "Standard Deviation:  9.860132971832694\n"
     ]
    }
   ],
   "source": [
    "#2. 第五位同學補考數學後成績為55，請計算補考後數學成績平均、最大值、最小值、標準差?\n",
    "math_score[4] = 55\n",
    "mean[1] = np.mean(math_score)\n",
    "max[1] = np.max(math_score)\n",
    "min[1] = np.min(math_score)\n",
    "std[1] = np.std(math_score)\n",
    "\n",
    "print(\"Subject: \", \"Math\")\n",
    "print(\"Mean: \", mean[1])\n",
    "print(\"Max: \", max[1])\n",
    "print(\"Min: \", min[1])\n",
    "print(\"Standard Deviation: \", std[1])"
   ]
  },
  {
   "cell_type": "code",
   "execution_count": 110,
   "metadata": {
    "executionInfo": {
     "elapsed": 989,
     "status": "ok",
     "timestamp": 1609854567264,
     "user": {
      "displayName": "献竤黃",
      "photoUrl": "",
      "userId": "07529243043474362942"
     },
     "user_tz": -480
    },
    "id": "SaGolKx0cKoU",
    "scrolled": true
   },
   "outputs": [
    {
     "name": "stdout",
     "output_type": "stream",
     "text": [
      "Correlation Coefficient: \n",
      "English-Chinese:  [[1.         0.97792828]\n",
      " [0.97792828 1.        ]]\n",
      "Math-Chinese:  [[1.         0.74056803]\n",
      " [0.74056803 1.        ]]\n"
     ]
    }
   ],
   "source": [
    "#3. 用補考後資料找出與國文成績相關係數最高的學科?\n",
    "Ans['Subject'] = subject\n",
    "Ans['Mean'] = mean\n",
    "Ans['Max'] = max\n",
    "Ans['Min'] = min\n",
    "Ans['Standard Deviation'] = std \n",
    "\n",
    "Rel_EC = np.corrcoef(english_score, chinese_score)\n",
    "Rel_MC = np.corrcoef(math_score, chinese_score)\n",
    "print(\"Correlation Coefficient: \")\n",
    "print(\"English-Chinese: \", Rel_EC)\n",
    "print(\"Math-Chinese: \", Rel_MC)"
   ]
  },
  {
   "cell_type": "code",
   "execution_count": 5,
   "metadata": {
    "executionInfo": {
     "elapsed": 987,
     "status": "ok",
     "timestamp": 1609854567264,
     "user": {
      "displayName": "献竤黃",
      "photoUrl": "",
      "userId": "07529243043474362942"
     },
     "user_tz": -480
    },
    "id": "fTNlLZ9Pzyiy"
   },
   "outputs": [],
   "source": []
  }
 ],
 "metadata": {
  "colab": {
   "authorship_tag": "ABX9TyPtywwDR7TsGGEOMGYLDT5h",
   "collapsed_sections": [],
   "name": "作業Hong題目.ipynb",
   "provenance": []
  },
  "kernelspec": {
   "display_name": "Python 3",
   "language": "python",
   "name": "python3"
  },
  "language_info": {
   "codemirror_mode": {
    "name": "ipython",
    "version": 3
   },
   "file_extension": ".py",
   "mimetype": "text/x-python",
   "name": "python",
   "nbconvert_exporter": "python",
   "pygments_lexer": "ipython3",
   "version": "3.8.8"
  }
 },
 "nbformat": 4,
 "nbformat_minor": 1
}
